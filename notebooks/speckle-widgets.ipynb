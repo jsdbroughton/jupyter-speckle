{
 "cells": [
  {
   "cell_type": "markdown",
   "metadata": {},
   "source": [
    "# Interactive Jupyter-Speckle-Viewer\n",
    "\n",
    "First we initiate the notebook requirements and some environment variables to hide the secrets. 🤫"
   ]
  },
  {
   "cell_type": "code",
   "execution_count": 1,
   "metadata": {},
   "outputs": [],
   "source": [
    "%%capture \n",
    "# capture turns off the output for this cell which is the install log.\n",
    "%pip install specklepy\n",
    "%pip install ipywidgets\n",
    "\n",
    "# plugin for loading environment variables from a .env file\n",
    "%reload_ext dotenv \n",
    "%dotenv\n",
    "\n",
    "HOST_SERVER=%env HOST_SERVER\n",
    "TOKEN=%env XYZ_ACCESS_TOKEN"
   ]
  },
  {
   "cell_type": "markdown",
   "metadata": {},
   "source": [
    "From there we run the boilerplate for a basic `specklepy` script"
   ]
  },
  {
   "cell_type": "code",
   "execution_count": 2,
   "metadata": {},
   "outputs": [],
   "source": [
    "import ipywidgets as widgets\n",
    "from ipywidgets import interact\n",
    "from specklepy.api.client import SpeckleClient\n",
    "from IPython.display import IFrame\n",
    "import logging\n",
    "from specklepy.api.models import Commit\n",
    "\n",
    "client = SpeckleClient(host=HOST_SERVER)\n",
    "client.authenticate_with_token(TOKEN)\n"
   ]
  },
  {
   "cell_type": "markdown",
   "metadata": {},
   "source": [
    "Now we have an authenticated client, we can build the rudimentary `speckle-ui` using IPython widgets."
   ]
  },
  {
   "cell_type": "code",
   "execution_count": 3,
   "metadata": {},
   "outputs": [],
   "source": [
    "# The Streams selector is fed with the list of streams from the authenticated\n",
    "# client.\n",
    "\n",
    "select = [(\"Select a Stream\", \"\")]\n",
    "stream_list = client.stream.list()\n",
    "stream_options = list(map(lambda x: (x.name, x.id), stream_list))\n",
    "\n",
    "stream_widget = widgets.Dropdown(\n",
    "    options=select + stream_options,\n",
    "    description=\"Select a stream\",\n",
    "    style=dict(description_width=\"initial\"),\n",
    "    value=select[0][1],\n",
    "    layout={\"width\": \"max-content\"},  # If the items' names are long\\n\"\n",
    ")\n",
    "\n",
    "# The Branch and Commit selectors will be populated following\n",
    "# selection from the Streams selector.\n",
    "branch_widget = widgets.Dropdown(\n",
    "    description=\"Select a branch\",\n",
    "    style=dict(description_width=\"initial\"),\n",
    "    options=[\"Select a stream first\"],\n",
    "    disabled=True,\n",
    ")\n",
    "\n",
    "commit_widget = widgets.Dropdown(\n",
    "    description=\"Select a commit\",\n",
    "    style=dict(description_width=\"initial\"),\n",
    "    options=[(\"Select a branch first\", None)],\n",
    "    disabled=True,\n",
    ")\n",
    "\n",
    "out = widgets.Output(layout={})\n",
    "\n",
    "iframe = IFrame(\n",
    "    src=f\"https://\",\n",
    "    width=\"700px\",\n",
    "    height=\"500px\",\n",
    "    style={\"border\": \"none\"},\n",
    ")\n"
   ]
  },
  {
   "cell_type": "markdown",
   "metadata": {},
   "source": [
    "The following functions are part of the IPythonWidgets secret sauce, essentially adding an observer event to the selected values of Stream and then Branch and populating the options property of the already created widgets."
   ]
  },
  {
   "cell_type": "code",
   "execution_count": 4,
   "metadata": {},
   "outputs": [],
   "source": [
    "def on_stream_value_change(change):\n",
    "    if change[\"type\"] == \"change\" and change[\"name\"] == \"value\":\n",
    "        if change[\"new\"] != \"\":\n",
    "            branch_list = client.branch.list(stream_id=change[\"new\"])\n",
    "            branch_widget.options = [\"Select a branch\"] + list(\n",
    "                map(lambda x: (x.name), branch_list)\n",
    "            )\n",
    "            branch_widget.disabled = False\n",
    "        else:\n",
    "            branch_widget.options = [\"Select a stream first\"]\n",
    "            branch_widget.disabled = True\n",
    "\n",
    "        branch_widget.value = branch_widget.options[0]\n",
    "\n",
    "\n",
    "def on_branch_value_change(change):\n",
    "    if change[\"type\"] == \"change\" and change[\"name\"] == \"value\":\n",
    "\n",
    "        if (\n",
    "            change[\"new\"] == \"Select a branch\"\n",
    "            or change[\"new\"] == \"Select a stream first\"\n",
    "        ):\n",
    "            commit_widget.options = [\"Select a branch first\"]\n",
    "            out.clear_output()\n",
    "            commit_widget.disabled = True\n",
    "        else:\n",
    "            branch = client.branch.get(\n",
    "                stream_id=stream_widget.value, name=change[\"new\"]\n",
    "            )\n",
    "\n",
    "            if branch.commits.totalCount == 0:\n",
    "                commit_widget.options = [(\"No commits yet on this branch\", \"\")]\n",
    "                out.clear_output()\n",
    "                commit_widget.disabled = True\n",
    "            else:\n",
    "                commit_widget.options = [(\"Select a commit\", \"\")] + list(\n",
    "                    map(lambda c: (f\"{c.message} ({c.id})\", c.id), branch.commits.items)\n",
    "                )\n",
    "                commit_widget.disabled = False\n",
    "\n",
    "\n",
    "# The Streams selector will update the Branch and Commit selectors.\n",
    "# The on_displayed event is a nicety.\n",
    "stream_widget.observe(on_stream_value_change)\n",
    "branch_widget.observe(on_branch_value_change)\n"
   ]
  },
  {
   "cell_type": "markdown",
   "metadata": {},
   "source": [
    "And its finally time to disply the interactive form. The embedded speckle\n",
    "viewer will display if there is a valid commit."
   ]
  },
  {
   "cell_type": "code",
   "execution_count": 5,
   "metadata": {},
   "outputs": [
    {
     "data": {
      "application/vnd.jupyter.widget-view+json": {
       "model_id": "46112e6f41224910965578c36c2ff05e",
       "version_major": 2,
       "version_minor": 0
      },
      "text/plain": [
       "interactive(children=(Dropdown(description='Select a stream', layout=Layout(width='max-content'), options=(('S…"
      ]
     },
     "metadata": {},
     "output_type": "display_data"
    },
    {
     "data": {
      "application/vnd.jupyter.widget-view+json": {
       "model_id": "dd13d7433f5a497485407495ad0c2c74",
       "version_major": 2,
       "version_minor": 0
      },
      "text/plain": [
       "Output()"
      ]
     },
     "metadata": {},
     "output_type": "display_data"
    }
   ],
   "source": [
    "# This decorator will make the widget interactive and will pass the selected\n",
    "# value of each to the function.\n",
    "@interact(\n",
    "    stream_value=stream_widget, branch_value=branch_widget, commit_value=commit_widget\n",
    ")\n",
    "def get_commit(stream_value, branch_value, commit_value):\n",
    "    if (\n",
    "        commit_value == \"\"\n",
    "        or commit_value is None\n",
    "        or commit_value == \"Select a commit\"\n",
    "        or commit_value == \"Select a branch first\"\n",
    "        or commit_value == \"No commits yet on this branch\"\n",
    "    ):\n",
    "        out.clear_output()\n",
    "        return\n",
    "\n",
    "    out.clear_output(True)\n",
    "    commit_object = client.commit.get(stream_id=stream_value, commit_id=commit_value)\n",
    "    if commit_object.id:\n",
    "        with out:\n",
    "            iframe.src = f\"https://{HOST_SERVER}/embed?stream={stream_value}&commit={commit_value}&filter=%7B%22colorBy%22%3A%7B%22type%22%3A%22category%22%2C%22property%22%3A%22Properties.Element.Stanhope%20Asset%20Reference%22%7D%7D\"\n",
    "            display(iframe)\n",
    "    else:\n",
    "        out.clear_output()\n",
    "        with out:\n",
    "            print(\"Something went wrong.\")\n",
    "    pass\n",
    "\n",
    "\n",
    "display(out)\n"
   ]
  }
 ],
 "metadata": {
  "kernelspec": {
   "display_name": "Python 3.10.4 64-bit ('jupyter-speckle')",
   "language": "python",
   "name": "python3"
  },
  "language_info": {
   "codemirror_mode": {
    "name": "ipython",
    "version": 3
   },
   "file_extension": ".py",
   "mimetype": "text/x-python",
   "name": "python",
   "nbconvert_exporter": "python",
   "pygments_lexer": "ipython3",
   "version": "3.10.4"
  },
  "toc-autonumbering": true,
  "vscode": {
   "interpreter": {
    "hash": "9336c1d5e1eb368440dcb98c12077254377513c691d47550113ebad78c02f20d"
   }
  }
 },
 "nbformat": 4,
 "nbformat_minor": 4
}
