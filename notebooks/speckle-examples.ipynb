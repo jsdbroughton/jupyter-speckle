{
 "cells": [
  {
   "cell_type": "code",
   "execution_count": 3,
   "metadata": {},
   "outputs": [],
   "source": [
    "\n",
    "%%capture\n",
    "%pip install specklepy\n",
    "%pip install python-dotenv\n",
    "%reload_ext dotenv\n",
    "%dotenv\n",
    "\n",
    "HOST_SERVER=%env HOST_SERVER\n",
    "TOKEN=%env ACCESS_TOKEN"
   ]
  },
  {
   "cell_type": "markdown",
   "metadata": {},
   "source": [
    "# Examples\n",
    "\n",
    "This doc will show you the basics of sending and receiving data and give you an overview of SpecklePy functionality. However, it is not comprehensive. For more examples, please explore the repo's [tests](https://github.com/specklesystems/speckle-py/tree/main/tests).\n",
    "\n",
    "## Sending & Receiving\n",
    "\n",
    "Let's look at how to send an object to a stream on your server and then receive that object back.\n",
    "\n",
    "First, you'll need to create and authenticate a client. To use the client, you'll need access to a Speckle server. To authenticate the client, you'll either need local accounts (added using [Manager](/user/manager)), or you can go to `your-server.com/profile` and create a Personal Access Token.\n"
   ]
  },
  {
   "cell_type": "code",
   "execution_count": 2,
   "metadata": {},
   "outputs": [],
   "source": [
    "from specklepy.api.client import SpeckleClient\n",
    "from specklepy.api.credentials import get_default_account\n",
    "\n",
    "# initialise the client\n",
    "client = SpeckleClient(host=HOST_SERVER) # or whatever your host is\n",
    "# client = SpeckleClient(host=\"localhost:3000\", use_ssl=False) or use local server\n",
    "\n",
    "# authenticate the client with a token\n",
    "#account = get_default_account()\n",
    "#client.authenticate_with_account(account)\n",
    "\n",
    "# if you're in an environment without accounts, you can construct an Account object yourself\n",
    "# or authenticate with just a token\n",
    "client.authenticate_with_token(TOKEN)"
   ]
  },
  {
   "cell_type": "markdown",
   "metadata": {},
   "source": [
    "\n",
    "Now that you have an authenticated client, you can start interacting with the API. Let's create a new stream and get that stream back.\n"
   ]
  },
  {
   "cell_type": "code",
   "execution_count": 3,
   "metadata": {},
   "outputs": [],
   "source": [
    "# create a new stream. this returns the stream id\n",
    "new_stream_id = client.stream.create(name=\"a shiny new stream\")\n",
    "\n",
    "# use that stream id to get the stream from the server\n",
    "new_stream = client.stream.get(id=new_stream_id)"
   ]
  },
  {
   "cell_type": "markdown",
   "metadata": {},
   "source": [
    "\n",
    "Next, we'll need some data to send. Let's extend `Base` to create a simple block to make it more interesting. All your custom objects should inherit from `Base` to ensure that serialization will work as expected."
   ]
  },
  {
   "cell_type": "code",
   "execution_count": 4,
   "metadata": {},
   "outputs": [],
   "source": [
    "from specklepy.objects import Base\n",
    "from specklepy.objects.geometry import Point\n",
    "\n",
    "class Block(Base):\n",
    "    length: float\n",
    "    width: float\n",
    "    height: float\n",
    "    origin: Point = None\n",
    "\n",
    "    def __init__(self, length=1.0, width=1.0, height=1.0, origin=Point(), **kwargs) -> None:\n",
    "        super().__init__(**kwargs)\n",
    "        # mark the origin as a detachable attribute\n",
    "        self.add_detachable_attrs({\"origin\"})\n",
    "\n",
    "        self.length = length\n",
    "        self.width = width\n",
    "        self.height = height\n",
    "        self.origin = origin"
   ]
  },
  {
   "cell_type": "markdown",
   "metadata": {},
   "source": [
    "\n",
    "Now let's send a block to the server! To do this, you'll first need to send the object to the stream and get back the object id or hash. You can then use this to create a commit on the stream that references this object."
   ]
  },
  {
   "cell_type": "code",
   "execution_count": 5,
   "metadata": {},
   "outputs": [],
   "source": [
    "from specklepy.transports.server import ServerTransport\n",
    "from specklepy.api import operations\n",
    "\n",
    "# here's the data you want to send\n",
    "block = Block(length=2, height=4)\n",
    "\n",
    "# next create a server transport - this is the vehicle through which you will send and receive\n",
    "transport = ServerTransport(client=client, stream_id=new_stream_id)\n",
    "\n",
    "# this serialises the block and sends it to the transport\n",
    "hash = operations.send(base=block, transports=[transport])\n",
    "\n",
    "# you can now create a commit on your stream with this object\n",
    "commit_id = client.commit.create(\n",
    "    stream_id=new_stream_id, \n",
    "    object_id=hash, \n",
    "    message=\"this is a block I made in speckle-py\",\n",
    "    )"
   ]
  },
  {
   "cell_type": "markdown",
   "metadata": {},
   "source": [
    "Tada! You should now have a commit on your stream containing your block. You'll be able to see the commit on the stream page on the web. Receiving an object back is pretty similar to receiving it. You'll generally be using the client to get a commit, then getting the hash to receive from the `referencedObject` attribute on that commit."
   ]
  },
  {
   "cell_type": "code",
   "execution_count": 6,
   "metadata": {},
   "outputs": [
    {
     "name": "stderr",
     "output_type": "stream",
     "text": [
      "/Users/jonathonbroughton/.pyenv/versions/3.10.4/envs/jupyter-speckle/lib/python3.10/site-packages/specklepy/objects/units.py:34: SpeckleWarning: Invalid units: expected type str but received <class 'NoneType'> (None). Skipping - no units will be set.\n",
      "  warn(\n"
     ]
    }
   ],
   "source": [
    "# this receives the object back from the transport.\n",
    "# the received data will be deserialised back into a `Block` \n",
    "received_base = operations.receive(obj_id=hash, remote_transport=transport)"
   ]
  },
  {
   "cell_type": "markdown",
   "metadata": {},
   "source": [
    "### Short Hand: The Stream Wrapper\n",
    "\n",
    "You've just seen how to simply send and receive objects using the `SpeckleClient` and a `ServerTransport`. Since v2.2.6, you can use a handy helper to get a client and a transport from a stream URL - the `StreamWrapper`!\n",
    "\n",
    "The `StreamWrapper` can parse any URL pointing to a stream, branch, commit, object, or globals. If you have a local account for the stream you provided, you can get an authenticated client and transport using the helper methods:"
   ]
  },
  {
   "cell_type": "code",
   "execution_count": 7,
   "metadata": {},
   "outputs": [],
   "source": [
    "from specklepy.api.wrapper import StreamWrapper\n",
    "\n",
    "# provide any stream, branch, commit, object, or globals url\n",
    "wrapper = StreamWrapper(\"https://speckle.xyz/streams/3073b96e86/commits/604bea8cc6\")\n",
    "\n",
    "# get an authenticated SpeckleClient if you have a local account for the server\n",
    "client = wrapper.get_client()\n",
    "\n",
    "# get an authenticated ServerTransport if you have a local account for the server\n",
    "transport = wrapper.get_transport()"
   ]
  },
  {
   "cell_type": "markdown",
   "metadata": {},
   "source": [
    "## Overview of Functionality\n",
    "\n",
    "### GraphQL Client\n",
    "\n",
    "The `SpeckleClient` is the entry point for interacting with the GraphQL API. You'll need to have access to a speckle server to use this. To authenticate, you'll need a token. You can either get one from an account you've already added to your computer using the [Manager](/user/manager), or you can head to `your-server.com/profile` and create a Personal Access Token."
   ]
  },
  {
   "cell_type": "code",
   "execution_count": 8,
   "metadata": {},
   "outputs": [],
   "source": [
    "from specklepy.api.client import SpeckleClient\n",
    "from specklepy.api.credentials import get_default_account, get_local_accounts\n",
    "\n",
    "#all_accounts = get_local_accounts() # get back a list\n",
    "#account = get_default_account()\n",
    "\n",
    "client = SpeckleClient(host=HOST_SERVER) # or whatever your host is\n",
    "# client = SpeckleClient(host=\"localhost:3000\", use_ssl=False) or use local server\n",
    "\n",
    "#client.authenticate_with_account(account)\n",
    "client.authenticate_with_token(TOKEN)"
   ]
  },
  {
   "cell_type": "markdown",
   "metadata": {},
   "source": [
    "Interacting with streams is designed to be intuitive and evocative of SpecklePy 1.0"
   ]
  },
  {
   "cell_type": "code",
   "execution_count": 9,
   "metadata": {},
   "outputs": [],
   "source": [
    "# get a list of your most recent streams\n",
    "stream_list = client.stream.list()\n",
    "\n",
    "# search your streams\n",
    "results = client.stream.search(\"mech\")\n",
    "\n",
    "# create a stream\n",
    "new_stream_id = client.stream.create(name=\"a shiny new stream\")\n",
    "\n",
    "# get a stream\n",
    "new_stream = client.stream.get(id=new_stream_id)"
   ]
  },
  {
   "cell_type": "markdown",
   "metadata": {},
   "source": [
    "New in 2.0: branches and commits! Here are some basic interactions."
   ]
  },
  {
   "cell_type": "code",
   "execution_count": 11,
   "metadata": {},
   "outputs": [
    {
     "name": "stdout",
     "output_type": "stream",
     "text": [
      "GraphQLException: Failed to execute the GraphQL commit request. Errors: [{'message': 'Stream not found', 'locations': [{'line': 2, 'column': 3}], 'path': ['stream'], 'extensions': {'code': 'INTERNAL_SERVER_ERROR'}}]\n"
     ]
    }
   ],
   "source": [
    "# get list of commits\n",
    "commits = client.commit.list(\"stream_id\")\n",
    "print(commits)\n",
    "\n",
    "# get a specific commit\n",
    "commit = client.commit.get(\"stream_id\", \"commit_id\")\n",
    "\n",
    "# create a commit\n",
    "commit_id = client.commit.create(\n",
    "    stream_id=\"stream_id\", object_id=\"object_id\", message=\"this is a commit message to describe the commit\")\n",
    "\n",
    "# delete a commit\n",
    "deleted = client.commit.delete(\"stream_id\", \"commit_id\")\n",
    "\n",
    "# get a list of branches\n",
    "branches = client.branch.list(\"stream_id\")\n",
    "\n",
    "# create a branch\n",
    "branch_id = client.branch.create(\"stream_id\", \"branch name\", \"a description of the branch\")\n",
    "\n",
    "# get a specific branch\n",
    "branch = client.branch.get(\"stream_id\", \"branch name\")"
   ]
  },
  {
   "cell_type": "markdown",
   "metadata": {},
   "source": [
    "### Operations and Transports\n",
    "\n",
    "The `operations` include four main methods:\n",
    "\n",
    "1. `send`: send an object to a stream\n",
    "2. `receive`: receive an object from a stream\n",
    "3. `serialize`: serialize a given `Base` object\n",
    "4. `deserialize`: deserializes JSON into an object into the type specified in `speckle_type` (defaults to a vanilla `Base` if the type can't be found)\n",
    "\n",
    "Let's look at sending and receiving. You will need to provide a `transport` to indicate where the objects should be sent to/received from. When sending, you can provide multiple transports to send the same object to multiple places simultaneously. Currently, we have three types of 'transport': `SQLiteTransport`, `MemoryTransport`, and `ServerTransport`. If you'd like to learn more about Transports in Speckle 2.0, have a look [here](/dev/transports)."
   ]
  },
  {
   "cell_type": "code",
   "execution_count": 15,
   "metadata": {},
   "outputs": [
    {
     "name": "stderr",
     "output_type": "stream",
     "text": [
      "/Users/jonathonbroughton/.pyenv/versions/3.10.4/envs/jupyter-speckle/lib/python3.10/site-packages/specklepy/objects/units.py:34: SpeckleWarning: Invalid units: expected type str but received <class 'NoneType'> (None). Skipping - no units will be set.\n",
      "  warn(\n"
     ]
    }
   ],
   "source": [
    "from specklepy.transports.memory import MemoryTransport\n",
    "from specklepy.api import operations\n",
    "\n",
    "transport = MemoryTransport()\n",
    "base_obj = Base()\n",
    "\n",
    "# this serialises the object and sends it to the transport\n",
    "hash = operations.send(base=base_obj, transports=[transport])\n",
    "\n",
    "# if the object had detached objects, you can see these as well\n",
    "saved_objects = transport.objects # a dict with the obj hash as the key\n",
    "\n",
    "# this receives an object from the given transport, deserialises it,\n",
    "# and recomposes it into a base object.\n",
    "# you can optionally provide a local_transport which will default to\n",
    "# the `SQLiteTransport` pointing at your local cache\n",
    "received_base = operations.receive(obj_id=hash, remote_transport=transport)"
   ]
  },
  {
   "cell_type": "markdown",
   "metadata": {},
   "source": [
    "You can also use the GraphQL API to send and receive objects. However, note that this method will not recompose a base and will only get the object you explicitly ask for using by its id."
   ]
  },
  {
   "cell_type": "code",
   "execution_count": 16,
   "metadata": {},
   "outputs": [],
   "source": [
    "from specklepy.objects import Base\n",
    "from specklepy.serialization.base_object_serializer import BaseObjectSerializer\n",
    "\n",
    "# create a test base object\n",
    "test_base = Base()\n",
    "test_base.testing = \"a test base obj\"\n",
    "\n",
    "# run it through the serialiser\n",
    "s = BaseObjectSerializer()\n",
    "hash, obj = s.traverse_base(test_base)\n",
    "\n",
    "# send it to the server\n",
    "objCreate = client.object.create(stream_id=\"stream id\", objects=[obj])\n",
    "\n",
    "received_base = client.object.get(\"stream id\", hash)"
   ]
  },
  {
   "cell_type": "markdown",
   "metadata": {},
   "source": [
    "### Base Object & Serialization\n",
    "\n",
    "#### The Base Object\n",
    "\n",
    "The `Base` class is the one you're familiar with from the rest of the Speckle universe. It generally behaves the same way as it does in the other SDKs. For more info about the `Base` object, have a look [here](/dev/base)."
   ]
  },
  {
   "cell_type": "code",
   "execution_count": 17,
   "metadata": {},
   "outputs": [],
   "source": [
    "from specklepy.objects import Base\n",
    "\n",
    "# creating a base we will nest within a parent base\n",
    "detached_base = Base()\n",
    "detached_base.name = \"a detached base\"\n",
    "\n",
    "# creating our parent base object\n",
    "base_obj = Base()\n",
    "\n",
    "# attributes can be added using dot or dict notation\n",
    "base_obj.name = \"my base\"\n",
    "base_obj[\"colour\"] = \"lilac\"\n",
    "\n",
    "# other base objects can be nested within.\n",
    "# prepending the attribute name with `@` will detach the nested base when sending\n",
    "base_obj[\"@nested\"] = detached_base"
   ]
  },
  {
   "cell_type": "markdown",
   "metadata": {},
   "source": [
    "The `Base` class has a few handy instance methods for identifying your object's typed and dynamic attributes:\n",
    "\n",
    "- `get_typed_member_names()` gets all of the names of the defined (typed) attributes of the object\n",
    "- `get_dynamic_member_names()` gets all of the names of the dynamic attributes of the object \n",
    "- `get_member_names()` gets a list of all the attributes on the object, dynamic or not\n",
    "\n",
    "Each `Base` object has an `id` (a unique hash) as it does in the other SDKs. This field is only populated if the `Base` has been previously serialized. If you *really* need the hash, you can get it using the `get_id()` method. Be aware that this call will fully serialize the object to create the `id` if the `id` is not populated! By default, the hash will be generated without decomposing the object. However, you can pass `decompose=True` as an argument if you want the decomposed `id`.\n",
    "\n",
    "#### Subclassing Base\n",
    "\n",
    "The `Base` class can be subclassed to create your own custom objects. These are automatically added to a class-level registry, simply a dictionary with the type name as the key. The type is automatically populated by the `speckle_type` attribute but can be overwritten when writing your class.\n",
    "\n",
    "Note that all typed attributes of a class **must be initialized with a non-mutable default value** or a value that you will only change by reassignment. If you'd like mutable defaults, you should write an `__init__` method for the class to set these (see the `Block` example in the first section)."
   ]
  },
  {
   "cell_type": "code",
   "execution_count": 18,
   "metadata": {},
   "outputs": [],
   "source": [
    "from specklepy.objects import Base\n",
    "from specklepy.objects.geometry import Point\n",
    "\n",
    "class Line(Base):\n",
    "    start: Point = None\n",
    "    end: Point = None\n",
    "\n",
    "class AlternativeLine(Base, speckle_type=\"Line_Two\"):\n",
    "    \"\"\"\n",
    "    The `speckle_type` is automatically populated by the class name.\n",
    "    You can override this behaviour as demonstrated here.\n",
    "    \"\"\"\n",
    "    a: Point = None\n",
    "    b: Point = None\n",
    "\n",
    "# look, a new custom line!\n",
    "line = Line(end=Point(x=1, y=0, z=2))\n",
    "\n",
    "# adding dynamic attributes as normal\n",
    "line.blah = \"blah\"\n",
    "line[\"colour\"] = \"blue\""
   ]
  },
  {
   "cell_type": "markdown",
   "metadata": {},
   "source": [
    "You can also mark typed attributes as detachable or chunkable by updating the internal `_detachable` set or `_chunkable` dict with the provided helper methods."
   ]
  },
  {
   "cell_type": "code",
   "execution_count": 19,
   "metadata": {},
   "outputs": [],
   "source": [
    "from specklepy.objects import Base\n",
    "from typing import List\n",
    "\n",
    "# members that are chunked upon sending are stored in a dictionary\n",
    "# with the name as the key and the maximum chunk size as the value\n",
    "CHUNKABLE_PROPS = {\n",
    "    \"vertices\": 1000,\n",
    "    \"faces\": 100,\n",
    "    \"colors\": 100,\n",
    "    \"textureCoordinates\": 100,\n",
    "    \"test_bases\": 10,\n",
    "}\n",
    "\n",
    "# detachable members are just added to an internal set by name\n",
    "DETACHABLE = {\"detach_this\", \"origin\"}\n",
    "\n",
    "# you can pass a chunkables dict and a detachables as keyword arguments when writing your class\n",
    "class FakeMesh(Base, chunkable=CHUNKABLE_PROPS, detachable=DETACHABLE):\n",
    "    vertices: List[float] = None\n",
    "    faces: List[int] = None\n",
    "    colors: List[int] = None\n",
    "    textureCoordinates: List[float] = None\n",
    "    test_bases: List[Base] = None\n",
    "    detach_this: Base = None\n",
    "    _origin: Point = None\n",
    "\n",
    "    # properties are also picked up and serialised as you'd expect\n",
    "    @property\n",
    "    def origin(self):\n",
    "        return self._origin\n",
    "\n",
    "    @origin.setter\n",
    "    def origin(self, value: Point):\n",
    "        self._origin = value"
   ]
  },
  {
   "cell_type": "markdown",
   "metadata": {},
   "source": [
    "#### Serialization\n",
    "\n",
    "The `BaseObjectSerializer` is used behind the scenes in the `operations` for decomposing and serializing `Base` objects so they can be sent/received to the server. You probably won't ever need to use it directly. However, if you want, you can use it to get the id (hash) and a serializable object representation of the decomposed `Base`. You can learn more about the Speckle `Base` object [here](/dev/base) and the decomposition API [here](/dev/decomposition)."
   ]
  },
  {
   "cell_type": "code",
   "execution_count": 20,
   "metadata": {},
   "outputs": [],
   "source": [
    "from specklepy.objects import Base\n",
    "from specklepy.serialization.base_object_serializer import BaseObjectSerializer\n",
    "\n",
    "detached_base = Base()\n",
    "detached_base.name = \"a detached base\"\n",
    "\n",
    "base_obj = Base()\n",
    "base_obj.name = \"my base\"\n",
    "base_obj[\"@nested\"] = detached_base\n",
    "\n",
    "serializer = BaseObjectSerializer()\n",
    "hash, obj_dict = serializer.traverse_base(base_obj)\n",
    "\n",
    "hash, serialized = serializer.write_json(base_obj)\n",
    "deserialized = serializer.read_json(serialized)"
   ]
  }
 ],
 "metadata": {
  "kernelspec": {
   "display_name": "Python 3.10.4 64-bit ('jupyter-speckle')",
   "language": "python",
   "name": "python3"
  },
  "language_info": {
   "codemirror_mode": {
    "name": "ipython",
    "version": 3
   },
   "file_extension": ".py",
   "mimetype": "text/x-python",
   "name": "python",
   "nbconvert_exporter": "python",
   "pygments_lexer": "ipython3",
   "version": "3.10.4"
  },
  "orig_nbformat": 4,
  "vscode": {
   "interpreter": {
    "hash": "9336c1d5e1eb368440dcb98c12077254377513c691d47550113ebad78c02f20d"
   }
  }
 },
 "nbformat": 4,
 "nbformat_minor": 2
}
