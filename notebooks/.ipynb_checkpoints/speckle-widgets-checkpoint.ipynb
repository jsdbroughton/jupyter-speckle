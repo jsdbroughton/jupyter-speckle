{
 "cells": [
  {
   "cell_type": "code",
   "execution_count": 1,
   "metadata": {},
   "outputs": [],
   "source": [
    "%%capture\n",
    "%pip install specklepy\n",
    "%pip install ipywidgets"
   ]
  },
  {
   "cell_type": "code",
   "execution_count": 2,
   "metadata": {},
   "outputs": [],
   "source": [
    "HOST_SERVER = \"latest.speckle.dev\"\n",
    "TOKEN = \"566c87a54d6ecbf314165d6da22e68c207886ba300\"\n"
   ]
  },
  {
   "cell_type": "code",
   "execution_count": 3,
   "metadata": {},
   "outputs": [],
   "source": [
    "from ipywidgets import interact, interactive, fixed, interact_manual\n",
    "import ipywidgets as widgets\n",
    "import specklepy\n"
   ]
  },
  {
   "cell_type": "code",
   "execution_count": 4,
   "metadata": {},
   "outputs": [],
   "source": [
    "from specklepy.api.client import SpeckleClient\n",
    "\n",
    "client = SpeckleClient(host=HOST_SERVER)\n",
    "client.authenticate_with_token(TOKEN)\n"
   ]
  },
  {
   "cell_type": "code",
   "execution_count": 5,
   "metadata": {},
   "outputs": [
    {
     "data": {
      "application/vnd.jupyter.widget-view+json": {
       "model_id": "736d320ca3664c1499de930469f8783f",
       "version_major": 2,
       "version_minor": 0
      },
      "text/plain": [
       "interactive(children=(Dropdown(description='Select a stream', layout=Layout(width='max-content'), options=(('R…"
      ]
     },
     "metadata": {},
     "output_type": "display_data"
    }
   ],
   "source": [
    "stream_list = client.stream.list()\n",
    "\n",
    "stream_options = list(map(lambda x: (x.name, x.id), stream_list))\n",
    "stream_disabled = len(stream_options) == 0\n",
    "\n",
    "stream_widget = widgets.Dropdown(\n",
    "    options=stream_options,\n",
    "    description=\"Select a stream\",\n",
    "    style=dict(description_width='initial'),\n",
    "    value=stream_options[0][1],\n",
    "    layout={\"width\": \"max-content\"},  # If the items' names are long\\n\"\n",
    "    disabled=stream_disabled,\n",
    ")\n",
    "\n",
    "branch_widget = widgets.Dropdown()\n",
    "\n",
    "def update_branch_options(*args):\n",
    "    stream = client.branch.list(stream_id=stream_widget.value)\n",
    "    branch_widget.options = list(map(lambda x: x.name, stream))\n",
    "\n",
    "stream_widget.observe(update_branch_options)\n",
    "\n",
    "@interact(a=stream_widget, b=branch_widget)\n",
    "def test(a, b):\n",
    "  print(a, b)\n",
    "\n"
   ]
  },
  {
   "cell_type": "code",
   "execution_count": 6,
   "metadata": {},
   "outputs": [
    {
     "ename": "NameError",
     "evalue": "name 'stream_id' is not defined",
     "output_type": "error",
     "traceback": [
      "\u001b[0;31m---------------------------------------------------------------------------\u001b[0m",
      "\u001b[0;31mNameError\u001b[0m                                 Traceback (most recent call last)",
      "Input \u001b[0;32mIn [6]\u001b[0m, in \u001b[0;36m<cell line: 10>\u001b[0;34m()\u001b[0m\n\u001b[1;32m      1\u001b[0m \u001b[38;5;66;03m# branch_disabled = len(branch_options) == 0\u001b[39;00m\n\u001b[1;32m      2\u001b[0m \n\u001b[1;32m      3\u001b[0m \u001b[38;5;66;03m# branch = widgets.Dropdown(\u001b[39;00m\n\u001b[0;32m   (...)\u001b[0m\n\u001b[1;32m      8\u001b[0m \u001b[38;5;66;03m#     disabled=branch_disabled,\u001b[39;00m\n\u001b[1;32m      9\u001b[0m \u001b[38;5;66;03m# )\u001b[39;00m\n\u001b[0;32m---> 10\u001b[0m branch_list \u001b[38;5;241m=\u001b[39m client\u001b[38;5;241m.\u001b[39mbranch\u001b[38;5;241m.\u001b[39mlist(\u001b[43mstream_id\u001b[49m)\n\u001b[1;32m     11\u001b[0m branch_options \u001b[38;5;241m=\u001b[39m \u001b[38;5;28mlist\u001b[39m(\u001b[38;5;28mmap\u001b[39m(\u001b[38;5;28;01mlambda\u001b[39;00m x: (x\u001b[38;5;241m.\u001b[39mname, x\u001b[38;5;241m.\u001b[39mid), branch_list))\n\u001b[1;32m     13\u001b[0m \u001b[38;5;66;03m# interact(\u001b[39;00m\n\u001b[1;32m     14\u001b[0m \u001b[38;5;66;03m#     f,\u001b[39;00m\n\u001b[1;32m     15\u001b[0m \u001b[38;5;66;03m#     x=widgets.Dropdown(\u001b[39;00m\n\u001b[0;32m   (...)\u001b[0m\n\u001b[1;32m     21\u001b[0m \u001b[38;5;66;03m#     ),\u001b[39;00m\n\u001b[1;32m     22\u001b[0m \u001b[38;5;66;03m# )\u001b[39;00m\n",
      "\u001b[0;31mNameError\u001b[0m: name 'stream_id' is not defined"
     ]
    }
   ],
   "source": [
    "\n",
    "\n",
    "\n",
    "# branch_disabled = len(branch_options) == 0\n",
    "\n",
    "# branch = widgets.Dropdown(\n",
    "#     options=branch_options,\n",
    "#     description=\"Select a stream\",\n",
    "#     style=dict(description_width='initial'),\n",
    "#     layout={\"width\": \"max-content\"},  # If the items' names are long\\n\"\n",
    "#     disabled=branch_disabled,\n",
    "# )\n",
    "branch_list = client.branch.list(stream_id)\n",
    "branch_options = list(map(lambda x: (x.name, x.id), branch_list))\n",
    "\n",
    "# interact(\n",
    "#     f,\n",
    "#     x=widgets.Dropdown(\n",
    "#         options=branch_options,\n",
    "#         description=\"Select a branch\",\n",
    "#         style=dict(description_width=\"initial\"),\n",
    "#         layout={\"width\": \"max-content\"},  # If the items' names are long\\n\"\n",
    "#         disabled=branch_disabled,\n",
    "#     ),\n",
    "# )\n",
    "\n",
    "w = interactive(f, x=widgets.Dropdown(\n",
    "        options=branch_options,\n",
    "        description=\"Select a branch\",\n",
    "        style=dict(description_width=\"initial\"),\n",
    "        layout={\"width\": \"max-content\"},  # If the items' names are long\\n\"\n",
    "        disabled=branch_disabled,\n",
    "    ))\n",
    "# display(branch)\n",
    "\n",
    "# branch_name = branch.value\n",
    "\n",
    "display(w)\n"
   ]
  },
  {
   "cell_type": "code",
   "execution_count": null,
   "metadata": {},
   "outputs": [],
   "source": [
    "w.result"
   ]
  }
 ],
 "metadata": {
  "kernelspec": {
   "display_name": "Python 3 (ipykernel)",
   "language": "python",
   "name": "python3"
  },
  "language_info": {
   "codemirror_mode": {
    "name": "ipython",
    "version": 3
   },
   "file_extension": ".py",
   "mimetype": "text/x-python",
   "name": "python",
   "nbconvert_exporter": "python",
   "pygments_lexer": "ipython3",
   "version": "3.10.4"
  },
  "toc-autonumbering": true,
  "vscode": {
   "interpreter": {
    "hash": "9336c1d5e1eb368440dcb98c12077254377513c691d47550113ebad78c02f20d"
   }
  }
 },
 "nbformat": 4,
 "nbformat_minor": 4
}
